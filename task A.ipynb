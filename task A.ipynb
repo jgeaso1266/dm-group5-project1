{
  "cells": [
    {
      "cell_type": "code",
      "execution_count": 2,
      "metadata": {
        "colab": {
          "base_uri": "https://localhost:8080/"
        },
        "id": "PS_sR42jM0s7",
        "outputId": "f5cb488c-c132-4ef3-f462-2667fbed2d25"
      },
      "outputs": [
        {
          "name": "stdout",
          "output_type": "stream",
          "text": [
            "Mounted at /content/drive\n"
          ]
        }
      ],
      "source": [
        "from google.colab import drive\n",
        "drive.mount('/content/drive')"
      ]
    },
    {
      "cell_type": "code",
      "execution_count": 28,
      "metadata": {
        "id": "CEJqfMU7MwNT"
      },
      "outputs": [],
      "source": [
        "import os\n",
        "\n",
        "tutorial_path = \"drive/MyDrive/\"\n",
        "dependencies = f'{tutorial_path}dependencies/'\n",
        "directory = os.fsencode(f'{dependencies}Chopin')"
      ]
    },
    {
      "cell_type": "code",
      "execution_count": 96,
      "metadata": {
        "id": "v3mVj2H2Mu_E"
      },
      "outputs": [],
      "source": [
        "import pandas as pd\n",
        "import numpy as np\n",
        "\n",
        "def timing_3_4():\n",
        "  three_four_means = [[],[],[]]\n",
        "\n",
        "  for file in os.listdir(directory):\n",
        "    filename = os.fsdecode(file)\n",
        "\n",
        "    annotation = pd.read_csv(f'{dependencies}Chopin/{filename}', sep='\\t', header=None)\n",
        "    if annotation[2].str.contains(pat='3/4').any():\n",
        "      ind = annotation[2].index[annotation[2].str.contains('3/4')][0]\n",
        "      end = annotation[2].index[annotation[ind + 1:, 2].str.contains('\\d/\\d', regex=True)][0] if annotation[2][ind + 1:].str.contains(pat=',\\d/\\d,').any() else annotation.shape[0] - 1\n",
        "\n",
        "      three_four_annotations = pd.DataFrame(annotation.loc[ind:end])\n",
        "\n",
        "      # First average the timings of all the beats in 3/4\n",
        "      three_four_annotations[1] = three_four_annotations[1].shift(-1, fill_value = 0)\n",
        "\n",
        "      three_four_annotations.drop(three_four_annotations.tail(1).index, inplace=True)\n",
        "\n",
        "      # Create a \"difference\" column\n",
        "      three_four_annotations[3] = (three_four_annotations[1] - three_four_annotations[0]) * (three_four_annotations[1] - three_four_annotations[0] > 0).astype(float)\n",
        "\n",
        "      for i in range(3):\n",
        "        three_four_means[i] += three_four_annotations[3].iloc[i::3].tolist()\n",
        "\n",
        "  three_four_means = np.array([np.mean(i) for i in three_four_means])\n",
        "  return three_four_means\n",
        "\n",
        "\n",
        "def timing_4_4():\n",
        "  four_four_means = [[],[],[],[]]\n",
        "\n",
        "  for file in os.listdir(directory):\n",
        "    filename = os.fsdecode(file)\n",
        "\n",
        "    annotation = pd.read_csv(f'{dependencies}Chopin/{filename}', sep='\\t', header=None)\n",
        "    if annotation[2].str.contains(pat='4/4').any():\n",
        "      ind = annotation[2].index[annotation[2].str.contains('4/4')][0]\n",
        "      end = annotation[2].index[annotation[ind + 1:, 2].str.contains('\\d/\\d', regex=True)][0] if annotation[2][ind + 1:].str.contains(pat=',\\d/\\d,').any() else annotation.shape[0] - 1\n",
        "\n",
        "      four_four_annotations = pd.DataFrame(annotation.loc[ind:end])\n",
        "\n",
        "      # First average the timings of all the beats in 4/4\n",
        "      four_four_annotations[1] = four_four_annotations[1].shift(-1, fill_value = 0)\n",
        "\n",
        "      four_four_annotations.drop(four_four_annotations.tail(1).index, inplace=True)\n",
        "\n",
        "      # Create a \"difference\" column\n",
        "      four_four_annotations[3] = (four_four_annotations[1] - four_four_annotations[0]) * (four_four_annotations[1] - four_four_annotations[0] > 0).astype(float)\n",
        "\n",
        "      for i in range(4):\n",
        "        four_four_means[i] = four_four_annotations[3].iloc[i::4].tolist()\n",
        "\n",
        "  four_four_means = np.array([np.mean(i) for i in four_four_means])\n",
        "  return four_four_means\n"
      ]
    },
    {
      "cell_type": "code",
      "execution_count": 98,
      "metadata": {
        "colab": {
          "base_uri": "https://localhost:8080/"
        },
        "id": "L_gCN7TH7QQE",
        "outputId": "37264a7e-ad5e-47dc-a7e4-776d60fa789c"
      },
      "outputs": [
        {
          "name": "stdout",
          "output_type": "stream",
          "text": [
            "BPM for each beat of 3/4 and 4/4 bar of Chopin Sonata\n",
            "[223.61326218 231.98709694 213.28216187]\n",
            "[59.97264324 63.83040902 61.51163688 58.35315187]\n"
          ]
        }
      ],
      "source": [
        "print(\"BPM for each beat of 3/4 and 4/4 bar of Chopin Sonata\")\n",
        "print(60 / timing_3_4())\n",
        "print(60 / timing_4_4())"
      ]
    }
  ],
  "metadata": {
    "colab": {
      "provenance": []
    },
    "kernelspec": {
      "display_name": "Python 3",
      "name": "python3"
    },
    "language_info": {
      "name": "python"
    }
  },
  "nbformat": 4,
  "nbformat_minor": 0
}
